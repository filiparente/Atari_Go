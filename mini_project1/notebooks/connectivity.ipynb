{
 "cells": [
  {
   "cell_type": "code",
   "execution_count": 13,
   "metadata": {},
   "outputs": [],
   "source": [
    "import sys\n",
    "#sys.path.append('/Users/ManuelSerraNunes/Desktop/Tecnico_5_1S/IA/Artificial_Intelligence_IST/mini_project1')\n",
    "sys.path.append('/Users/simaomoraessarmento/Dropbox/IST/S1/IA/Artificial_Intelligence_IST/mini_project1')\n",
    "from go import *"
   ]
  },
  {
   "cell_type": "code",
   "execution_count": 21,
   "metadata": {},
   "outputs": [],
   "source": [
    "#file_path = \"Artificial_Intelligence_IST/mini_project1/example2.txt\"\n",
    "file_path = \"/Users/simaomoraessarmento/Dropbox/IST/S1/IA/Artificial_Intelligence_IST/mini_project1/example2.txt\"\n",
    "file = open(file_path)"
   ]
  },
  {
   "cell_type": "code",
   "execution_count": 22,
   "metadata": {},
   "outputs": [
    {
     "name": "stdout",
     "output_type": "stream",
     "text": [
      "Board size: 5x5\nNext player to move:  1\n[[0, 0, 0, 0, 1], [1, 0, 1, 0, 1], [1, 1, 1, 1, 1], [1, 1, 1, 1, 1], [0, 0, 0, 0, 0]]\n"
     ]
    }
   ],
   "source": [
    "\"\"\"Loads a board from an opened file and returns the corresponding state\"\"\"\n",
    "\n",
    "# 1. First line should contain:\n",
    "#   - size of board\n",
    "#   - next player to move\n",
    "line1 = file.readline()\n",
    "size, player = map(int, line1.split(' '))\n",
    "print('Board size: {}x{}'.format(size, size))\n",
    "print('Next player to move: ', player)\n",
    "\n",
    "# 2. Load board into matrix\n",
    "board = []\n",
    "for row in range(size):\n",
    "    board_row = file.readline().split('\\n')[0]\n",
    "    board.append([int(point) for point in board_row])\n",
    "print(board)\n",
    "    "
   ]
  },
  {
   "cell_type": "code",
   "execution_count": 33,
   "metadata": {},
   "outputs": [
    {
     "name": "stdout",
     "output_type": "stream",
     "text": [
      "0 0 \n",
      "\n",
      "[[0, 0, 0, 0, 0], [0, 0, 0, 0, 0], [0, 0, 0, 0, 0], [0, 0, 0, 0, 0], [0, 0, 0, 0, 0]]\n",
      "0 1 \n",
      "\n",
      "[[0, 0, 0, 0, 0], [0, 0, 0, 0, 0], [0, 0, 0, 0, 0], [0, 0, 0, 0, 0], [0, 0, 0, 0, 0]]\n",
      "0 2 \n",
      "\n",
      "[[0, 0, 0, 0, 0], [0, 0, 0, 0, 0], [0, 0, 0, 0, 0], [0, 0, 0, 0, 0], [0, 0, 0, 0, 0]]\n",
      "0 3 \n",
      "\n",
      "[[0, 0, 0, 0, 0], [0, 0, 0, 0, 0], [0, 0, 0, 0, 0], [0, 0, 0, 0, 0], [0, 0, 0, 0, 0]]\n",
      "0 4 \n",
      "\n",
      "[[0, 0, 0, 0, 0], [0, 0, 0, 0, 0], [0, 0, 0, 0, 0], [0, 0, 0, 0, 0], [0, 0, 0, 0, 0]]\n",
      "1 0 \n",
      "\n",
      "[[0, 0, 0, 0, 1], [0, 0, 0, 0, 0], [0, 0, 0, 0, 0], [0, 0, 0, 0, 0], [0, 0, 0, 0, 0]]\n",
      "1 1 \n",
      "\n",
      "[[0, 0, 0, 0, 1], [3, 0, 0, 0, 0], [0, 0, 0, 0, 0], [0, 0, 0, 0, 0], [0, 0, 0, 0, 0]]\n",
      "1 2 \n",
      "\n",
      "[[0, 0, 0, 0, 1], [3, 0, 0, 0, 0], [0, 0, 0, 0, 0], [0, 0, 0, 0, 0], [0, 0, 0, 0, 0]]\n",
      "1 3 \n",
      "\n",
      "[[0, 0, 0, 0, 1], [3, 0, 5, 0, 0], [0, 0, 0, 0, 0], [0, 0, 0, 0, 0], [0, 0, 0, 0, 0]]\n",
      "1 4 \n",
      "\n",
      "[[0, 0, 0, 0, 1], [3, 0, 5, 0, 0], [0, 0, 0, 0, 0], [0, 0, 0, 0, 0], [0, 0, 0, 0, 0]]\n",
      "2 0 \n",
      "\n",
      "[[0, 0, 0, 0, 1], [3, 0, 5, 0, 1], [0, 0, 0, 0, 0], [0, 0, 0, 0, 0], [0, 0, 0, 0, 0]]\n",
      "2 1 \n",
      "\n",
      "[[0, 0, 0, 0, 1], [3, 0, 5, 0, 1], [3, 0, 0, 0, 0], [0, 0, 0, 0, 0], [0, 0, 0, 0, 0]]\n",
      "2 2 \n",
      "\n",
      "[[0, 0, 0, 0, 1], [3, 0, 5, 0, 1], [3, 3, 0, 0, 0], [0, 0, 0, 0, 0], [0, 0, 0, 0, 0]]\n",
      "2 3 \n",
      "\n",
      "[[0, 0, 0, 0, 1], [5, 0, 5, 0, 1], [5, 5, 5, 0, 0], [0, 0, 0, 0, 0], [0, 0, 0, 0, 0]]\n",
      "2 4 \n",
      "\n",
      "[[0, 0, 0, 0, 1], [5, 0, 5, 0, 1], [5, 5, 5, 5, 0], [0, 0, 0, 0, 0], [0, 0, 0, 0, 0]]\n",
      "3 0 \n",
      "\n",
      "[[0, 0, 0, 0, 1], [1, 0, 1, 0, 1], [1, 1, 1, 1, 1], [0, 0, 0, 0, 0], [0, 0, 0, 0, 0]]\n",
      "3 1 \n",
      "\n",
      "[[0, 0, 0, 0, 1], [1, 0, 1, 0, 1], [1, 1, 1, 1, 1], [1, 0, 0, 0, 0], [0, 0, 0, 0, 0]]\n",
      "3 2 \n",
      "\n",
      "[[0, 0, 0, 0, 1], [1, 0, 1, 0, 1], [1, 1, 1, 1, 1], [1, 1, 0, 0, 0], [0, 0, 0, 0, 0]]\n",
      "3 3 \n",
      "\n",
      "[[0, 0, 0, 0, 1], [1, 0, 1, 0, 1], [1, 1, 1, 1, 1], [1, 1, 1, 0, 0], [0, 0, 0, 0, 0]]\n",
      "3 4 \n",
      "\n",
      "[[0, 0, 0, 0, 1], [1, 0, 1, 0, 1], [1, 1, 1, 1, 1], [1, 1, 1, 1, 0], [0, 0, 0, 0, 0]]\n",
      "4 0 \n",
      "\n",
      "[[0, 0, 0, 0, 1], [1, 0, 1, 0, 1], [1, 1, 1, 1, 1], [1, 1, 1, 1, 1], [0, 0, 0, 0, 0]]\n",
      "4 1 \n",
      "\n",
      "[[0, 0, 0, 0, 1], [1, 0, 1, 0, 1], [1, 1, 1, 1, 1], [1, 1, 1, 1, 1], [0, 0, 0, 0, 0]]\n",
      "4 2 \n",
      "\n",
      "[[0, 0, 0, 0, 1], [1, 0, 1, 0, 1], [1, 1, 1, 1, 1], [1, 1, 1, 1, 1], [0, 0, 0, 0, 0]]\n",
      "4 3 \n",
      "\n",
      "[[0, 0, 0, 0, 1], [1, 0, 1, 0, 1], [1, 1, 1, 1, 1], [1, 1, 1, 1, 1], [0, 0, 0, 0, 0]]\n",
      "4 4 \n",
      "\n",
      "[[0, 0, 0, 0, 1], [1, 0, 1, 0, 1], [1, 1, 1, 1, 1], [1, 1, 1, 1, 1], [0, 0, 0, 0, 0]]\n"
     ]
    }
   ],
   "source": [
    "group_board = [[0] * len(board) for i in range(len(board))]\n",
    "groups = {1:dict(), 2:dict()}\n",
    "counters = {1:1, 2:2}\n",
    "\n",
    "\n",
    "for row in range(len(board)):\n",
    "    for col in range(len(board)):\n",
    "        print(row, col, '\\n')\n",
    "        print(group_board)\n",
    "        player = board[row][col]\n",
    "        \n",
    "        # Check if current point is occupied. If not, it just skips to next point\n",
    "        if board[row][col] != 0:\n",
    "            \"\"\"\n",
    "            Component identification goes as follows:\n",
    "            1) Look for a group neighbor on the row above. If existent, join group.\n",
    "            2) Look for a group neighbor on the col on the left. If existent:\n",
    "                2.1) If neighbor was found both on top and left, then merge left group\n",
    "                     w/ top group\n",
    "                2.2) If only left neighbor was found, then join current point to left\n",
    "                     group.\n",
    "            3) If no neighbor was found (same player piece in any of the neighboring points)\n",
    "               then a new group is created\n",
    "            \"\"\"\n",
    "                 \n",
    "            top_neighbor = group_board[row-1][col]   \n",
    "            left_neighbor = group_board[row][col-1]\n",
    "            \n",
    "            if row - 1 >= 0:\n",
    "                if top_neighbor != 0 and top_neighbor == player:\n",
    "                    # updates group board\n",
    "                    group_board[row][col] = top_neighbor\n",
    "                    # adds element to group structure\n",
    "                    new_elements = [(row, col)]\n",
    "                    groups[player][group_board[row][col]].add_element(new_elements)\n",
    "    \n",
    "            if col - 1 >= 0:\n",
    "                if left_neighbor != 0 and left_neighbor == player:\n",
    "                    # verifies if groups must be merged (condition 2.1)\n",
    "                    # by checking group_board[row][col] != 0, we ensure a group has been \n",
    "                    # attributed before\n",
    "                    if group_board[row][col] != 0 and left_neighbor != group_board[row][col]:\n",
    "                        # updates left neighbor's group elements\n",
    "                        elements_to_merge = groups[player][left_neighbor].elements\n",
    "                        groups[player][group_board[row][col]].add_element(elements_to_merge)\n",
    "                        # removes old group from dictionary\n",
    "                        groups[player].pop(left_neighbor)\n",
    "                        # updates group board\n",
    "                        for old_element_row, old_element_col in elements_to_merge:\n",
    "                            group_board[old_element_row][old_element_col] = group_board[row][col]\n",
    "                    \n",
    "                    # no neighbor on top, just join left neighbor's group (condition 2.2)\n",
    "                    elif group_board[row][col] == 0:\n",
    "                        # updates group board\n",
    "                        group_board[row][col] = left_neighbor\n",
    "                        # adds element to group structure\n",
    "                        new_elements = [(row, col)]\n",
    "                        groups[player][group_board[row][col]].add_element(new_elements)\n",
    "\n",
    "                        \n",
    "            ## check point bellow\n",
    "            #if row + 1 <= len(board):\n",
    "                #if color == board[row+1][col]:\n",
    "\n",
    "                    ## adicionar ao grupo\n",
    "            \n",
    "            ##if col + 1 <= len(board):\n",
    "            \n",
    "            if group_board[row][col] == 0:\n",
    "                # if no merging neighbors were found, than just creates a new group\n",
    "                group_board[row][col] = counters[player]\n",
    "                groups[player][counters[player]] = Group((row, col))\n",
    "                counters[player] += 2"
   ]
  },
  {
   "cell_type": "code",
   "execution_count": 27,
   "metadata": {},
   "outputs": [
    {
     "name": "stdout",
     "output_type": "stream",
     "text": [
      "[[0, 0, 0, 0, 1], [5, 0, 5, 0, 1], [5, 5, 5, 5, 0], [0, 0, 0, 0, 0], [0, 0, 0, 0, 0]]\n"
     ]
    }
   ],
   "source": [
    "print(group_board)"
   ]
  },
  {
   "cell_type": "code",
   "execution_count": 22,
   "metadata": {},
   "outputs": [
    {
     "data": {
      "text/plain": [
       "[(1, 2), (1, 3)]"
      ]
     },
     "execution_count": 22,
     "metadata": {},
     "output_type": "execute_result"
    }
   ],
   "source": [
    "groups[2][2].elements"
   ]
  }
 ],
 "metadata": {
  "kernelspec": {
   "display_name": "Python 3",
   "language": "python",
   "name": "python3"
  },
  "language_info": {
   "codemirror_mode": {
    "name": "ipython",
    "version": 3
   },
   "file_extension": ".py",
   "mimetype": "text/x-python",
   "name": "python",
   "nbconvert_exporter": "python",
   "pygments_lexer": "ipython3",
   "version": "3.6.4"
  }
 },
 "nbformat": 4,
 "nbformat_minor": 2
}
