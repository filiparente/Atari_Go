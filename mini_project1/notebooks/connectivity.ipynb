{
 "cells": [
  {
   "cell_type": "code",
   "execution_count": 1,
   "metadata": {},
   "outputs": [],
   "source": [
    "import sys\n",
    "sys.path.append('/Users/ManuelSerraNunes/Desktop/Tecnico_5_1S/IA/Artificial_Intelligence_IST/mini_project1')\n",
    "from go import *"
   ]
  },
  {
   "cell_type": "code",
   "execution_count": 23,
   "metadata": {},
   "outputs": [],
   "source": [
    "file_path = \"Artificial_Intelligence_IST/mini_project1/example2.txt\"\n",
    "file = open(file_path)"
   ]
  },
  {
   "cell_type": "code",
   "execution_count": 24,
   "metadata": {},
   "outputs": [
    {
     "name": "stdout",
     "output_type": "stream",
     "text": [
      "Board size: 5x5\n",
      "Next player to move:  1\n",
      "[[0, 0, 0, 0, 1], [1, 0, 1, 0, 1], [1, 1, 1, 1, 1], [1, 1, 1, 1, 1], [0, 0, 0, 0, 0]]\n"
     ]
    }
   ],
   "source": [
    "\"\"\"Loads a board from an opened file and returns the corresponding state\"\"\"\n",
    "\n",
    "# 1. First line should contain:\n",
    "#   - size of board\n",
    "#   - next player to move\n",
    "line1 = file.readline()\n",
    "size, player = map(int, line1.split(' '))\n",
    "print('Board size: {}x{}'.format(size, size))\n",
    "print('Next player to move: ', player)\n",
    "\n",
    "# 2. Load board into matrix\n",
    "board = []\n",
    "for row in range(size):\n",
    "    board_row = file.readline().split('\\n')[0]\n",
    "    board.append([int(point) for point in board_row])\n",
    "print(board)\n",
    "    "
   ]
  },
  {
   "cell_type": "code",
   "execution_count": 33,
   "metadata": {},
   "outputs": [
    {
     "name": "stdout",
     "output_type": "stream",
     "text": [
      "0 0 \n",
      "\n",
      "[[0, 0, 0, 0, 0], [0, 0, 0, 0, 0], [0, 0, 0, 0, 0], [0, 0, 0, 0, 0], [0, 0, 0, 0, 0]]\n",
      "0 1 \n",
      "\n",
      "[[0, 0, 0, 0, 0], [0, 0, 0, 0, 0], [0, 0, 0, 0, 0], [0, 0, 0, 0, 0], [0, 0, 0, 0, 0]]\n",
      "0 2 \n",
      "\n",
      "[[0, 0, 0, 0, 0], [0, 0, 0, 0, 0], [0, 0, 0, 0, 0], [0, 0, 0, 0, 0], [0, 0, 0, 0, 0]]\n",
      "0 3 \n",
      "\n",
      "[[0, 0, 0, 0, 0], [0, 0, 0, 0, 0], [0, 0, 0, 0, 0], [0, 0, 0, 0, 0], [0, 0, 0, 0, 0]]\n",
      "0 4 \n",
      "\n",
      "[[0, 0, 0, 0, 0], [0, 0, 0, 0, 0], [0, 0, 0, 0, 0], [0, 0, 0, 0, 0], [0, 0, 0, 0, 0]]\n",
      "1 0 \n",
      "\n",
      "[[0, 0, 0, 0, 1], [0, 0, 0, 0, 0], [0, 0, 0, 0, 0], [0, 0, 0, 0, 0], [0, 0, 0, 0, 0]]\n",
      "1 1 \n",
      "\n",
      "[[0, 0, 0, 0, 1], [3, 0, 0, 0, 0], [0, 0, 0, 0, 0], [0, 0, 0, 0, 0], [0, 0, 0, 0, 0]]\n",
      "1 2 \n",
      "\n",
      "[[0, 0, 0, 0, 1], [3, 0, 0, 0, 0], [0, 0, 0, 0, 0], [0, 0, 0, 0, 0], [0, 0, 0, 0, 0]]\n",
      "1 3 \n",
      "\n",
      "[[0, 0, 0, 0, 1], [3, 0, 5, 0, 0], [0, 0, 0, 0, 0], [0, 0, 0, 0, 0], [0, 0, 0, 0, 0]]\n",
      "1 4 \n",
      "\n",
      "[[0, 0, 0, 0, 1], [3, 0, 5, 0, 0], [0, 0, 0, 0, 0], [0, 0, 0, 0, 0], [0, 0, 0, 0, 0]]\n",
      "2 0 \n",
      "\n",
      "[[0, 0, 0, 0, 1], [3, 0, 5, 0, 1], [0, 0, 0, 0, 0], [0, 0, 0, 0, 0], [0, 0, 0, 0, 0]]\n",
      "2 1 \n",
      "\n",
      "[[0, 0, 0, 0, 1], [3, 0, 5, 0, 1], [3, 0, 0, 0, 0], [0, 0, 0, 0, 0], [0, 0, 0, 0, 0]]\n",
      "2 2 \n",
      "\n",
      "[[0, 0, 0, 0, 1], [3, 0, 5, 0, 1], [3, 3, 0, 0, 0], [0, 0, 0, 0, 0], [0, 0, 0, 0, 0]]\n",
      "2 3 \n",
      "\n",
      "[[0, 0, 0, 0, 1], [5, 0, 5, 0, 1], [5, 5, 5, 0, 0], [0, 0, 0, 0, 0], [0, 0, 0, 0, 0]]\n",
      "2 4 \n",
      "\n",
      "[[0, 0, 0, 0, 1], [5, 0, 5, 0, 1], [5, 5, 5, 5, 0], [0, 0, 0, 0, 0], [0, 0, 0, 0, 0]]\n",
      "3 0 \n",
      "\n",
      "[[0, 0, 0, 0, 1], [1, 0, 1, 0, 1], [1, 1, 1, 1, 1], [0, 0, 0, 0, 0], [0, 0, 0, 0, 0]]\n",
      "3 1 \n",
      "\n",
      "[[0, 0, 0, 0, 1], [1, 0, 1, 0, 1], [1, 1, 1, 1, 1], [1, 0, 0, 0, 0], [0, 0, 0, 0, 0]]\n",
      "3 2 \n",
      "\n",
      "[[0, 0, 0, 0, 1], [1, 0, 1, 0, 1], [1, 1, 1, 1, 1], [1, 1, 0, 0, 0], [0, 0, 0, 0, 0]]\n",
      "3 3 \n",
      "\n",
      "[[0, 0, 0, 0, 1], [1, 0, 1, 0, 1], [1, 1, 1, 1, 1], [1, 1, 1, 0, 0], [0, 0, 0, 0, 0]]\n",
      "3 4 \n",
      "\n",
      "[[0, 0, 0, 0, 1], [1, 0, 1, 0, 1], [1, 1, 1, 1, 1], [1, 1, 1, 1, 0], [0, 0, 0, 0, 0]]\n",
      "4 0 \n",
      "\n",
      "[[0, 0, 0, 0, 1], [1, 0, 1, 0, 1], [1, 1, 1, 1, 1], [1, 1, 1, 1, 1], [0, 0, 0, 0, 0]]\n",
      "4 1 \n",
      "\n",
      "[[0, 0, 0, 0, 1], [1, 0, 1, 0, 1], [1, 1, 1, 1, 1], [1, 1, 1, 1, 1], [0, 0, 0, 0, 0]]\n",
      "4 2 \n",
      "\n",
      "[[0, 0, 0, 0, 1], [1, 0, 1, 0, 1], [1, 1, 1, 1, 1], [1, 1, 1, 1, 1], [0, 0, 0, 0, 0]]\n",
      "4 3 \n",
      "\n",
      "[[0, 0, 0, 0, 1], [1, 0, 1, 0, 1], [1, 1, 1, 1, 1], [1, 1, 1, 1, 1], [0, 0, 0, 0, 0]]\n",
      "4 4 \n",
      "\n",
      "[[0, 0, 0, 0, 1], [1, 0, 1, 0, 1], [1, 1, 1, 1, 1], [1, 1, 1, 1, 1], [0, 0, 0, 0, 0]]\n"
     ]
    }
   ],
   "source": [
    "group_board = [[0] * len(board) for i in range(len(board)) ]\n",
    "groups= {1:dict(), 2:dict()}\n",
    "counters = {1:1, 2:2}\n",
    "\n",
    "\n",
    "for row in range(len(board)):\n",
    "    for col in range(len(board)):\n",
    "        print(row, col, '\\n')\n",
    "        print(group_board)\n",
    "        player = board[row][col]\n",
    "        \n",
    "        ## check if the current position is a piece\n",
    "        if board[row][col] != 0:\n",
    "            \n",
    "            ## check point bellow\n",
    "            #if row + 1 <= len(board):\n",
    "                #if color == board[row+1][col]:\n",
    "\n",
    "                    ## adicionar ao grupo\n",
    "                    \n",
    "            if row - 1 >= 0:\n",
    "                if group_board[row-1][col] != 0 and board[row-1][col] == player:\n",
    "                    group_board[row][col] = group_board[row-1][col]\n",
    "                    \n",
    "                    new_elements = [(row,col)]\n",
    "                    groups[player][group_board[row][col]].add_element(new_elements)\n",
    "                    ## adicionar ao grupo\n",
    "\n",
    "            ##if col + 1 <= len(board):\n",
    "                \n",
    "            if(col -1 >= 0):\n",
    "                 if group_board[row][col-1] != 0 and board[row][col-1] == player:\n",
    "                    # verifies if groups must be merged\n",
    "                    if group_board[row][col] != 0 and group_board[row][col-1] != group_board[row][col]:\n",
    "                        # Update group members\n",
    "                        elements_to_merge = groups[player][group_board[row][col-1]].elements\n",
    "                        groups[player][group_board[row][col]].add_element(elements_to_merge)\n",
    "                        # Remove old group from dict\n",
    "                        groups[player].pop(group_board[row][col-1])\n",
    "                        # Update board\n",
    "                        for old_element_row, old_element_col in elements_to_merge:\n",
    "                            group_board[old_element_row][old_element_col] = group_board[row][col]\n",
    "                    \n",
    "                    elif group_board[row][col] == 0:\n",
    "                        group_board[row][col] = group_board[row][col-1]\n",
    "                        new_elements = [(row,col)]\n",
    "                        groups[player][group_board[row][col]].add_element(new_elements)\n",
    "                        ## adicionar ao grupo\n",
    "                \n",
    "            if group_board[row][col] == 0:\n",
    "                # new group\n",
    "              \n",
    "                group_board[row][col] = counters[player]\n",
    "                groups[player][counters[player]] = Group((row, col))\n",
    "                counters[player] += 2"
   ]
  },
  {
   "cell_type": "code",
   "execution_count": 27,
   "metadata": {},
   "outputs": [
    {
     "name": "stdout",
     "output_type": "stream",
     "text": [
      "[[0, 0, 0, 0, 1], [5, 0, 5, 0, 1], [5, 5, 5, 5, 0], [0, 0, 0, 0, 0], [0, 0, 0, 0, 0]]\n"
     ]
    }
   ],
   "source": [
    "print(group_board)"
   ]
  },
  {
   "cell_type": "code",
   "execution_count": 22,
   "metadata": {},
   "outputs": [
    {
     "data": {
      "text/plain": [
       "[(1, 2), (1, 3)]"
      ]
     },
     "execution_count": 22,
     "metadata": {},
     "output_type": "execute_result"
    }
   ],
   "source": [
    "groups[2][2].elements"
   ]
  }
 ],
 "metadata": {
  "kernelspec": {
   "display_name": "Python 3",
   "language": "python",
   "name": "python3"
  },
  "language_info": {
   "codemirror_mode": {
    "name": "ipython",
    "version": 3
   },
   "file_extension": ".py",
   "mimetype": "text/x-python",
   "name": "python",
   "nbconvert_exporter": "python",
   "pygments_lexer": "ipython3",
   "version": "3.6.4"
  }
 },
 "nbformat": 4,
 "nbformat_minor": 2
}
