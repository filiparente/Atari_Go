{
 "cells": [
  {
   "cell_type": "code",
   "execution_count": 1,
   "metadata": {},
   "outputs": [],
   "source": [
    "import sys\n",
    "#sys.path.append('/Users/ManuelSerraNunes/Desktop/Tecnico_5_1S/IA/Artificial_Intelligence_IST/mini_project1')\n",
    "sys.path.append('/Users/simaomoraessarmento/Dropbox/IST/S1/IA/Artificial_Intelligence_IST/mini_project1')\n",
    "from go import *"
   ]
  },
  {
   "cell_type": "code",
   "execution_count": 2,
   "metadata": {},
   "outputs": [],
   "source": [
    "#file_path = \"Artificial_Intelligence_IST/mini_project1/example2.txt\"\n",
    "file_path = \"/Users/simaomoraessarmento/Dropbox/IST/S1/IA/Artificial_Intelligence_IST/mini_project1/example2.txt\"\n",
    "file = open(file_path)"
   ]
  },
  {
   "cell_type": "code",
   "execution_count": 3,
   "metadata": {},
   "outputs": [
    {
     "name": "stdout",
     "output_type": "stream",
     "text": [
      "Board size: 5x5\nNext player to move:  1\n[[0, 0, 0, 0, 1], [1, 0, 1, 0, 1], [1, 1, 1, 1, 1], [1, 1, 1, 1, 1], [0, 0, 0, 0, 0]]\n"
     ]
    }
   ],
   "source": [
    "\"\"\"Loads a board from an opened file and returns the corresponding state\"\"\"\n",
    "\n",
    "# 1. First line should contain:\n",
    "#   - size of board\n",
    "#   - next player to move\n",
    "line1 = file.readline()\n",
    "size, player = map(int, line1.split(' '))\n",
    "print('Board size: {}x{}'.format(size, size))\n",
    "print('Next player to move: ', player)\n",
    "\n",
    "# 2. Load board into matrix\n",
    "board = []\n",
    "for row in range(size):\n",
    "    board_row = file.readline().split('\\n')[0]\n",
    "    board.append([int(point) for point in board_row])\n",
    "print(board)\n",
    "    "
   ]
  },
  {
   "cell_type": "code",
   "execution_count": 7,
   "metadata": {},
   "outputs": [
    {
     "name": "stdout",
     "output_type": "stream",
     "text": [
      "\n 0 0\n[[0, 0, 0, 0, 0], [0, 0, 0, 0, 0], [0, 0, 0, 0, 0], [0, 0, 0, 0, 0], [0, 0, 0, 0, 0]]\n\n 0 1\n[[0, 0, 0, 0, 0], [0, 0, 0, 0, 0], [0, 0, 0, 0, 0], [0, 0, 0, 0, 0], [0, 0, 0, 0, 0]]\n\n 0 2\n[[0, 0, 0, 0, 0], [0, 0, 0, 0, 0], [0, 0, 0, 0, 0], [0, 0, 0, 0, 0], [0, 0, 0, 0, 0]]\n\n 0 3\n[[0, 0, 0, 0, 0], [0, 0, 0, 0, 0], [0, 0, 0, 0, 0], [0, 0, 0, 0, 0], [0, 0, 0, 0, 0]]\n\n 0 4\n[[0, 0, 0, 0, 1], [0, 0, 0, 0, 0], [0, 0, 0, 0, 0], [0, 0, 0, 0, 0], [0, 0, 0, 0, 0]]\n\n 1 0\n[[0, 0, 0, 0, 1], [3, 0, 0, 0, 0], [0, 0, 0, 0, 0], [0, 0, 0, 0, 0], [0, 0, 0, 0, 0]]\n\n 1 1\n[[0, 0, 0, 0, 1], [3, 0, 0, 0, 0], [0, 0, 0, 0, 0], [0, 0, 0, 0, 0], [0, 0, 0, 0, 0]]\n\n 1 2\n[[0, 0, 0, 0, 1], [3, 0, 5, 0, 0], [0, 0, 0, 0, 0], [0, 0, 0, 0, 0], [0, 0, 0, 0, 0]]\n\n 1 3\n[[0, 0, 0, 0, 1], [3, 0, 5, 0, 0], [0, 0, 0, 0, 0], [0, 0, 0, 0, 0], [0, 0, 0, 0, 0]]\n\n 1 4\n[[0, 0, 0, 0, 1], [3, 0, 5, 0, 1], [0, 0, 0, 0, 0], [0, 0, 0, 0, 0], [0, 0, 0, 0, 0]]\n\n 2 0\n[[0, 0, 0, 0, 1], [3, 0, 5, 0, 1], [3, 0, 0, 0, 0], [0, 0, 0, 0, 0], [0, 0, 0, 0, 0]]\n\n 2 1\n[[0, 0, 0, 0, 1], [3, 0, 5, 0, 1], [3, 3, 0, 0, 0], [0, 0, 0, 0, 0], [0, 0, 0, 0, 0]]\n\n 2 2\n[[0, 0, 0, 0, 1], [5, 0, 5, 0, 1], [5, 5, 5, 0, 0], [0, 0, 0, 0, 0], [0, 0, 0, 0, 0]]\n\n 2 3\n[[0, 0, 0, 0, 1], [5, 0, 5, 0, 1], [5, 5, 5, 5, 0], [0, 0, 0, 0, 0], [0, 0, 0, 0, 0]]\n\n 2 4\n[[0, 0, 0, 0, 1], [1, 0, 1, 0, 1], [1, 1, 1, 1, 1], [0, 0, 0, 0, 0], [0, 0, 0, 0, 0]]\n\n 3 0\n[[0, 0, 0, 0, 1], [1, 0, 1, 0, 1], [1, 1, 1, 1, 1], [1, 0, 0, 0, 0], [0, 0, 0, 0, 0]]\n\n 3 1\n[[0, 0, 0, 0, 1], [1, 0, 1, 0, 1], [1, 1, 1, 1, 1], [1, 1, 0, 0, 0], [0, 0, 0, 0, 0]]\n\n 3 2\n[[0, 0, 0, 0, 1], [1, 0, 1, 0, 1], [1, 1, 1, 1, 1], [1, 1, 1, 0, 0], [0, 0, 0, 0, 0]]\n\n 3 3\n[[0, 0, 0, 0, 1], [1, 0, 1, 0, 1], [1, 1, 1, 1, 1], [1, 1, 1, 1, 0], [0, 0, 0, 0, 0]]\n\n 3 4\n[[0, 0, 0, 0, 1], [1, 0, 1, 0, 1], [1, 1, 1, 1, 1], [1, 1, 1, 1, 1], [0, 0, 0, 0, 0]]\n\n 4 0\n[[0, 0, 0, 0, 1], [1, 0, 1, 0, 1], [1, 1, 1, 1, 1], [1, 1, 1, 1, 1], [0, 0, 0, 0, 0]]\n\n 4 1\n[[0, 0, 0, 0, 1], [1, 0, 1, 0, 1], [1, 1, 1, 1, 1], [1, 1, 1, 1, 1], [0, 0, 0, 0, 0]]\n\n 4 2\n[[0, 0, 0, 0, 1], [1, 0, 1, 0, 1], [1, 1, 1, 1, 1], [1, 1, 1, 1, 1], [0, 0, 0, 0, 0]]\n\n 4 3\n[[0, 0, 0, 0, 1], [1, 0, 1, 0, 1], [1, 1, 1, 1, 1], [1, 1, 1, 1, 1], [0, 0, 0, 0, 0]]\n\n 4 4\n[[0, 0, 0, 0, 1], [1, 0, 1, 0, 1], [1, 1, 1, 1, 1], [1, 1, 1, 1, 1], [0, 0, 0, 0, 0]]\n"
     ]
    }
   ],
   "source": [
    "def update_liberties(row, col, board, group_board, player, groups):\n",
    "    \"\"\"\n",
    "    This function calculates the liberties for the given point,\n",
    "    and updates the corresponding group information regarding so.\n",
    "    \n",
    "    :param row: row point position\n",
    "    :param col: col point position\n",
    "    :param board: matrix with board pieces\n",
    "    :param group_board: matrix with board groups\n",
    "    :param player: next player to move\n",
    "    :param groups: dictionary with groups' information\n",
    "    \"\"\"\n",
    "    group = group_board[row][col]\n",
    "    \n",
    "    if row - 1 >= 0:\n",
    "        if board[row-1][col] == 0:\n",
    "            groups[player][group].add_liberty((row-1, col))\n",
    "    if row + 1 < len(board):     \n",
    "        if board[row+1][col] == 0:\n",
    "            groups[player][group].add_liberty((row+1, col))\n",
    "    if col - 1 >= 0:\n",
    "        if board[row][col-1] == 0:\n",
    "            groups[player][group].add_liberty((row, col-1))\n",
    "    if col + 1 < len(board):\n",
    "        if board[row][col+1] == 0:\n",
    "            groups[player][group].add_liberty((row, col+1))\n",
    "    \n",
    "            \n",
    "def merge_groups(row, col, player, groups, left_neighbor_group, group_board):\n",
    "    \"\"\"\n",
    "    This function is responsible for merging two connected groups initially\n",
    "    identified as separated components.\n",
    "    \n",
    "    :param row: row point position\n",
    "    :param col: col point position\n",
    "    :param player: next player to move\n",
    "    :param groups: dictionary with groups' information\n",
    "    :param left_neighbor_group: group to merge\n",
    "    :param group_board: matrix with board groups\n",
    "    \n",
    "    :return board elements to update on the board\n",
    "    \"\"\"\n",
    "    group = group_board[row][col]\n",
    "    \n",
    "    # 1) merge elements\n",
    "    elements_to_merge = groups[player][left_neighbor_group].elements\n",
    "    groups[player][group].add_element(elements_to_merge)\n",
    "    \n",
    "    # 2) merge liberties (liberties count is updated internally)\n",
    "    liberties_to_merge = groups[player][left_neighbor_group].liberties\n",
    "    for liberty in liberties_to_merge:\n",
    "        groups[player][group].add_liberty(liberty)\n",
    "    \n",
    "    return elements_to_merge\n",
    "\n",
    "group_board = [[0] * len(board) for i in range(len(board))]\n",
    "groups = {1:dict(), 2:dict()}\n",
    "counters = {1:1, 2:2}\n",
    "\n",
    "\n",
    "for row in range(len(board)):\n",
    "    for col in range(len(board)):\n",
    "        print('\\n', row, col)\n",
    "        player = board[row][col]\n",
    "        \n",
    "        # Check if current point is occupied. If not, it just skips to next point\n",
    "        if board[row][col] != 0:\n",
    "            \"\"\"\n",
    "            Component identification goes as follows:\n",
    "            1) Look for a group neighbor on the row above. If existent, join group.\n",
    "            2) Look for a group neighbor on the col on the left. If existent:\n",
    "                2.1) If neighbor was found both on top and left, then merge left group\n",
    "                     w/ top group\n",
    "                2.2) If only left neighbor was found, then join current point to left\n",
    "                     group.\n",
    "            3) If no neighbor was found (same player piece in any of the neighboring points)\n",
    "               then a new group is created\n",
    "            \"\"\"\n",
    "                        \n",
    "            if row - 1 >= 0:\n",
    "                top_neighbor = board[row-1][col] \n",
    "                top_neighbor_group = group_board[row-1][col] \n",
    "    \n",
    "                if top_neighbor_group != 0 and top_neighbor == player:\n",
    "                    # updates group board\n",
    "                    group_board[row][col] = top_neighbor_group\n",
    "                    # adds element to group structure\n",
    "                    new_elements = [(row, col)]\n",
    "                    groups[player][group_board[row][col]].add_element(new_elements)\n",
    "    \n",
    "            if col - 1 >= 0:\n",
    "                left_neighbor = board[row][col-1]\n",
    "                left_neighbor_group = group_board[row][col-1]\n",
    "                \n",
    "                if left_neighbor_group != 0 and left_neighbor == player:\n",
    "                    # verifies if groups must be merged (condition 2.1)\n",
    "                    # by checking group_board[row][col] != 0, we ensure a group has been \n",
    "                    # attributed before\n",
    "                    if group_board[row][col] != 0 and left_neighbor_group != group_board[row][col]:\n",
    "                        # updates left neighbor's group elements\n",
    "                        elements_to_merge= merge_groups(row, col, player, groups, left_neighbor_group, group_board)\n",
    "                        # removes old group from dictionary\n",
    "                        groups[player].pop(left_neighbor_group)\n",
    "                        # updates group board\n",
    "                        for old_element_row, old_element_col in elements_to_merge:\n",
    "                            group_board[old_element_row][old_element_col] = group_board[row][col]\n",
    "                    \n",
    "                    # no neighbor on top, just join left neighbor's group (condition 2.2)\n",
    "                    elif group_board[row][col] == 0:\n",
    "                        # updates group board\n",
    "                        group_board[row][col] = left_neighbor_group\n",
    "                        # adds element to group structure\n",
    "                        new_elements = [(row, col)]\n",
    "                        groups[player][group_board[row][col]].add_element(new_elements)\n",
    "            \n",
    "            # if no merging neighbors were found, than just creates a new group\n",
    "            if group_board[row][col] == 0:\n",
    "                group_board[row][col] = counters[player]\n",
    "                groups[player][counters[player]] = Group((row, col))\n",
    "                counters[player] += 2\n",
    "                \n",
    "            # Finally, add information about group's liberties to the structure\n",
    "            update_liberties(row, col, board, group_board, player, groups)\n",
    "        print(group_board)"
   ]
  },
  {
   "cell_type": "code",
   "execution_count": 8,
   "metadata": {},
   "outputs": [
    {
     "name": "stdout",
     "output_type": "stream",
     "text": [
      "10\n"
     ]
    }
   ],
   "source": [
    "print(groups[1][1].n_liberties)"
   ]
  },
  {
   "cell_type": "code",
   "execution_count": 22,
   "metadata": {},
   "outputs": [
    {
     "data": {
      "text/plain": [
       "[(1, 2), (1, 3)]"
      ]
     },
     "execution_count": 22,
     "metadata": {},
     "output_type": "execute_result"
    }
   ],
   "source": [
    "groups[2][2].elements"
   ]
  }
 ],
 "metadata": {
  "kernelspec": {
   "display_name": "Python 3",
   "language": "python",
   "name": "python3"
  },
  "language_info": {
   "codemirror_mode": {
    "name": "ipython",
    "version": 3
   },
   "file_extension": ".py",
   "mimetype": "text/x-python",
   "name": "python",
   "nbconvert_exporter": "python",
   "pygments_lexer": "ipython3",
   "version": "3.6.4"
  }
 },
 "nbformat": 4,
 "nbformat_minor": 2
}
