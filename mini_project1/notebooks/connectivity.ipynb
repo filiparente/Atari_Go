{
 "cells": [
  {
   "cell_type": "code",
   "execution_count": 1,
   "metadata": {},
   "outputs": [],
   "source": [
    "import sys\n",
    "sys.path.append('/Users/ManuelSerraNunes/Desktop/Tecnico_5_1S/IA/Artificial_Intelligence_IST/mini_project1')\n",
    "#sys.path.append(r'C:\\Users\\Carlos\\Desktop\\IST\\IST 5ºano\\IA\\Artificial_Intelligence_IST\\mini_project1')\n",
    "#sys.path.append('/Users/simaomoraessarmento/Dropbox/IST/S1/IA/Artificial_Intelligence_IST/mini_project1')\n",
    "from go import *"
   ]
  },
  {
   "cell_type": "markdown",
   "metadata": {},
   "source": [
    "## Completed"
   ]
  },
  {
   "cell_type": "code",
   "execution_count": 2,
   "metadata": {},
   "outputs": [],
   "source": [
    "#file_path = r\"C:\\Users\\Carlos\\Desktop\\IST\\IST 5ºano\\IA\\Artificial_Intelligence_IST\\mini_project1\\examples\\example5.txt\"\n",
    "file_path = \"/Users/ManuelSerraNunes/Desktop/Tecnico_5_1S/IA/Artificial_Intelligence_IST/mini_project1/examples/test05.txt\"\n",
    "#file_path = \"/Users/simaomoraessarmento/Dropbox/IST/S1/IA/Artificial_Intelligence_IST/mini_project1/examples/example2.txt\"\n",
    "file = open(file_path)\n",
    "\n",
    "\n",
    "game = Game()\n",
    "s = game.load_board(file)\n",
    "act = game.actions(s)\n",
    "#game.terminal_test(s)\n"
   ]
  },
  {
   "cell_type": "code",
   "execution_count": 4,
   "metadata": {},
   "outputs": [
    {
     "data": {
      "text/plain": [
       "-0.3333333333333333"
      ]
     },
     "execution_count": 4,
     "metadata": {},
     "output_type": "execute_result"
    }
   ],
   "source": [
    "game.utility(s,1)"
   ]
  },
  {
   "cell_type": "code",
   "execution_count": 4,
   "metadata": {},
   "outputs": [],
   "source": [
    "a = {'b': 2}"
   ]
  },
  {
   "cell_type": "code",
   "execution_count": null,
   "metadata": {},
   "outputs": [],
   "source": []
  },
  {
   "cell_type": "code",
   "execution_count": 3,
   "metadata": {},
   "outputs": [
    {
     "name": "stdout",
     "output_type": "stream",
     "text": [
      "0.3333333333333333 (2, 2, 2)\n",
      "0.3333333333333333 (2, 3, 5)\n",
      "1 (2, 5, 3)\n",
      "1 (2, 2, 5)\n",
      "1 (2, 1, 4)\n",
      "1 (2, 2, 1)\n",
      "1 (2, 1, 1)\n",
      "1 (2, 2, 4)\n",
      "1 (2, 5, 5)\n",
      "1 (2, 3, 1)\n",
      "1 (2, 1, 5)\n",
      "1 (2, 4, 2)\n",
      "1 (2, 5, 1)\n",
      "1 (2, 1, 2)\n",
      "1 (2, 4, 5)\n",
      "1 (2, 2, 3)\n",
      "1 (2, 5, 2)\n",
      "1 (2, 1, 3)\n",
      "1 (2, 4, 1)\n"
     ]
    },
    {
     "data": {
      "text/plain": [
       "(2, 5, 3)"
      ]
     },
     "execution_count": 3,
     "metadata": {},
     "output_type": "execute_result"
    }
   ],
   "source": [
    "alphabeta_cutoff_search(s, game, d=4, cutoff_test=None, eval_fn=None)\n"
   ]
  },
  {
   "cell_type": "code",
   "execution_count": 20,
   "metadata": {},
   "outputs": [],
   "source": [
    "ns = game.result(s, (2,2,3))"
   ]
  },
  {
   "cell_type": "code",
   "execution_count": 21,
   "metadata": {},
   "outputs": [
    {
     "data": {
      "text/plain": [
       "[[0, 0, 0, 0, 0],\n",
       " [0, 0, 0, 0, 0],\n",
       " [0, 2, 1, 4, 0],\n",
       " [0, 0, 6, 3, 0],\n",
       " [0, 0, 0, 3, 0]]"
      ]
     },
     "execution_count": 21,
     "metadata": {},
     "output_type": "execute_result"
    }
   ],
   "source": [
    "s.group_board"
   ]
  },
  {
   "cell_type": "code",
   "execution_count": 22,
   "metadata": {},
   "outputs": [
    {
     "data": {
      "text/plain": [
       "[[0, 0, 0, 0, 0],\n",
       " [0, 0, 8, 0, 0],\n",
       " [0, 2, 1, 4, 0],\n",
       " [0, 0, 6, 3, 0],\n",
       " [0, 0, 0, 3, 0]]"
      ]
     },
     "execution_count": 22,
     "metadata": {},
     "output_type": "execute_result"
    }
   ],
   "source": [
    "ns.group_board"
   ]
  },
  {
   "cell_type": "code",
   "execution_count": 23,
   "metadata": {},
   "outputs": [
    {
     "data": {
      "text/plain": [
       "{(3, 1), (4, 2)}"
      ]
     },
     "execution_count": 23,
     "metadata": {},
     "output_type": "execute_result"
    }
   ],
   "source": [
    "ns.groups[2][6].liberties"
   ]
  },
  {
   "cell_type": "code",
   "execution_count": 24,
   "metadata": {},
   "outputs": [
    {
     "data": {
      "text/plain": [
       "1"
      ]
     },
     "execution_count": 24,
     "metadata": {},
     "output_type": "execute_result"
    }
   ],
   "source": [
    "game.utility(ns,2)"
   ]
  },
  {
   "cell_type": "markdown",
   "metadata": {},
   "source": [
    "## Function development"
   ]
  },
  {
   "cell_type": "markdown",
   "metadata": {
    "heading_collapsed": true
   },
   "source": [
    "### Actions"
   ]
  },
  {
   "cell_type": "code",
   "execution_count": 114,
   "metadata": {
    "hidden": true
   },
   "outputs": [],
   "source": [
    "def actions(s):\n",
    "    \n",
    "    \"\"\"returns list with points of possible actions\n",
    "    \"\"\"\n",
    "    \n",
    "    actions = set()\n",
    "    \n",
    "    for row in range(len(s.group_board)):\n",
    "        for col in range(len(s.group_board)):\n",
    "            \n",
    "            if s.group_board[row][col] == 0:\n",
    "            \n",
    "                neighbors = get_neighbors(row, col, s)\n",
    "                \n",
    "                for neighbor in neighbors:\n",
    "                    \n",
    "                    neighbor_color = neighbor[0]\n",
    "                    neighbor_liberties = neighbor[1]\n",
    "                    \n",
    "                    if neighbor_color == 0:\n",
    "                        actions.add((s.player, row, col))\n",
    "                        continue\n",
    "                    \n",
    "                    if neighbor_color == s.player and neighbor_liberties > 1: \n",
    "                        actions.add((s.player, row, col))\n",
    "                        continue\n",
    "                    \n",
    "                    if neighbor_color != s.player and neighbor_liberties == 1:\n",
    "                        actions.add((s.player, row, col))\n",
    "                        continue\n",
    "\n",
    "    return actions\n",
    "\n",
    "        \n",
    "def get_group_color(group_number):\n",
    "    # podiamos meter a cor do grupo na classe grupo para nao ser preciso isto\n",
    "    if group_number % 2 == 1:\n",
    "        return 1\n",
    "    else:\n",
    "        return 2\n",
    "\n",
    "    \n",
    "def get_neighbors(row, col, s):\n",
    "    \"\"\"returns list of tuples (neighbour_color, #liberties)\n",
    "    \"\"\"\n",
    "\n",
    "    board_size = s.size\n",
    "    neighbors = list()\n",
    "    coords = [ (row-1,col), (row+1,col), (row,col-1), (row,col+1) ]\n",
    "    \n",
    "    for coord in coords:\n",
    "        row = coord[0]\n",
    "        col = coord[1]\n",
    "\n",
    "        if (row >= 0 and row < board_size) and (col >= 0 and col < board_size):\n",
    "           \n",
    "            group = s.group_board[row][col] \n",
    "            \n",
    "            if group == 0:\n",
    "                neighbors.append((0,-1))\n",
    "            else:\n",
    "                color = get_group_color(group)\n",
    "                neighbors.append( (color, s.groups[color][group].n_liberties) )\n",
    "    \n",
    "    return neighbors"
   ]
  },
  {
   "cell_type": "code",
   "execution_count": 115,
   "metadata": {
    "hidden": true
   },
   "outputs": [],
   "source": [
    "acts = actions(s)\n",
    "print(acts)"
   ]
  },
  {
   "cell_type": "code",
   "execution_count": 111,
   "metadata": {
    "hidden": true
   },
   "outputs": [
    {
     "data": {
      "text/plain": [
       "[[0, 0, 1, 0], [0, 3, 2, 2], [0, 4, 5, 0], [0, 0, 0, 0]]"
      ]
     },
     "execution_count": 111,
     "metadata": {},
     "output_type": "execute_result"
    }
   ],
   "source": [
    "s.group_board"
   ]
  },
  {
   "cell_type": "markdown",
   "metadata": {
    "heading_collapsed": true
   },
   "source": [
    "### Update Liberties"
   ]
  },
  {
   "cell_type": "code",
   "execution_count": null,
   "metadata": {
    "hidden": true
   },
   "outputs": [],
   "source": [
    "def update_liberties(row, col, board, group_board, player, groups):\n",
    "    \"\"\"\n",
    "    This function calculates the liberties for the given point,\n",
    "    and updates the corresponding group information regarding so.\n",
    "    \n",
    "    :param row: row point position\n",
    "    :param col: col point position\n",
    "    :param board: matrix with board pieces\n",
    "    :param group_board: matrix with board groups\n",
    "    :param player: next player to move\n",
    "    :param groups: dictionary with groups' information\n",
    "    \"\"\"\n",
    "    group = group_board[row][col]\n",
    "    \n",
    "    # check all 4 neighbors. If the neighbor is empty (= 0) its a liberty\n",
    "    \n",
    "    if row - 1 >= 0:\n",
    "        if board[row-1][col] == 0:\n",
    "            groups[player][group].add_liberty((row-1, col))\n",
    "    if row + 1 < len(board):     \n",
    "        if board[row+1][col] == 0:\n",
    "            groups[player][group].add_liberty((row+1, col))\n",
    "    if col - 1 >= 0:\n",
    "        if board[row][col-1] == 0:\n",
    "            groups[player][group].add_liberty((row, col-1))\n",
    "    if col + 1 < len(board):\n",
    "        if board[row][col+1] == 0:\n",
    "            groups[player][group].add_liberty((row, col+1))\n",
    "    \n",
    "            \n",
    "def merge_groups(row, col, player, groups, left_neighbor_group, group_board):\n",
    "    \"\"\"\n",
    "    This function is responsible for merging two connected groups initially\n",
    "    identified as separated components.\n",
    "    \n",
    "    :param row: row point position\n",
    "    :param col: col point position\n",
    "    :param player: next player to move\n",
    "    :param groups: dictionary with groups' information\n",
    "    :param left_neighbor_group: group to merge\n",
    "    :param group_board: matrix with board groups\n",
    "    \n",
    "    :return board elements to update on the board\n",
    "    \"\"\"\n",
    "    group = group_board[row][col]\n",
    "    \n",
    "    # 1) merge elements\n",
    "    elements_to_merge = groups[player][left_neighbor_group].elements\n",
    "    groups[player][group].add_element(elements_to_merge)\n",
    "    \n",
    "    # 2) merge liberties (liberties count is updated internally)\n",
    "    liberties_to_merge = groups[player][left_neighbor_group].liberties\n",
    "    for liberty in liberties_to_merge:\n",
    "        groups[player][group].add_liberty(liberty)\n",
    "    \n",
    "    return elements_to_merge\n",
    "\n",
    "group_board = [[0] * len(board) for i in range(len(board))]\n",
    "groups = {1:dict(), 2:dict()}\n",
    "counters = {1:1, 2:2}\n",
    "\n",
    "state = State() # vem no cabeçalho\n",
    "\n",
    "for row in range(len(board)):\n",
    "    for col in range(len(board)):\n",
    "        print('\\n', row, col)\n",
    "        player = board[row][col]\n",
    "        \n",
    "        # Check if current point is occupied. If not, it just skips to next point\n",
    "        if board[row][col] != 0:\n",
    "            \"\"\"\n",
    "            Component identification goes as follows:\n",
    "            1) Look for a group neighbor on the row above. If existent, join group.\n",
    "            2) Look for a group neighbor on the col on the left. If existent:\n",
    "                2.1) If neighbor was found both on top and left, then merge left group\n",
    "                     w/ top group\n",
    "                2.2) If only left neighbor was found, then join current point to left\n",
    "                     group.\n",
    "            3) If no neighbor was found (same player piece in any of the neighboring points)\n",
    "               then a new group is created\n",
    "            \"\"\"\n",
    "                        \n",
    "            if row - 1 >= 0:\n",
    "                top_neighbor = board[row-1][col] \n",
    "                top_neighbor_group = group_board[row-1][col] \n",
    "    \n",
    "                if top_neighbor_group != 0 and top_neighbor == player:\n",
    "                    # updates group board\n",
    "                    group_board[row][col] = top_neighbor_group\n",
    "                    # adds element to group structure\n",
    "                    new_elements = [(row, col)]\n",
    "                    groups[player][group_board[row][col]].add_element(new_elements)\n",
    "    \n",
    "            if col - 1 >= 0:\n",
    "                left_neighbor = board[row][col-1]\n",
    "                left_neighbor_group = group_board[row][col-1]\n",
    "                \n",
    "                if left_neighbor_group != 0 and left_neighbor == player:\n",
    "                    # verifies if groups must be merged (condition 2.1)\n",
    "                    # by checking group_board[row][col] != 0, we ensure a group has been \n",
    "                    # attributed before\n",
    "                    if group_board[row][col] != 0 and left_neighbor_group != group_board[row][col]:\n",
    "                        # updates left neighbor's group elements\n",
    "                        elements_to_merge= merge_groups(row, col, player, groups, left_neighbor_group, group_board)\n",
    "                        # removes old group from dictionary\n",
    "                        groups[player].pop(left_neighbor_group)\n",
    "                        # updates group board\n",
    "                        for old_element_row, old_element_col in elements_to_merge:\n",
    "                            group_board[old_element_row][old_element_col] = group_board[row][col]\n",
    "                    \n",
    "                    # no neighbor on top, just join left neighbor's group (condition 2.2)\n",
    "                    elif group_board[row][col] == 0:\n",
    "                        # updates group board\n",
    "                        group_board[row][col] = left_neighbor_group\n",
    "                        # adds element to group structure\n",
    "                        new_elements = [(row, col)]\n",
    "                        groups[player][group_board[row][col]].add_element(new_elements)\n",
    "            \n",
    "            # if no merging neighbors were found, than just creates a new group\n",
    "            if group_board[row][col] == 0:\n",
    "                group_board[row][col] = counters[player]\n",
    "                groups[player][counters[player]] = Group((row, col))\n",
    "                counters[player] += 2\n",
    "                \n",
    "            # Finally, add information about group's liberties to the structure\n",
    "            update_liberties(row, col, board, group_board, player, groups)\n",
    "        print(group_board)"
   ]
  },
  {
   "cell_type": "code",
   "execution_count": null,
   "metadata": {
    "hidden": true
   },
   "outputs": [],
   "source": [
    "print(groups[1][1].liberties)"
   ]
  },
  {
   "cell_type": "code",
   "execution_count": null,
   "metadata": {
    "hidden": true
   },
   "outputs": [],
   "source": [
    "groups[2][2].elements"
   ]
  },
  {
   "cell_type": "markdown",
   "metadata": {
    "heading_collapsed": true
   },
   "source": [
    "### Result()"
   ]
  },
  {
   "cell_type": "code",
   "execution_count": 23,
   "metadata": {
    "hidden": true
   },
   "outputs": [],
   "source": [
    "ns = game.result(s, (1,0,0))"
   ]
  },
  {
   "cell_type": "code",
   "execution_count": 24,
   "metadata": {
    "hidden": true
   },
   "outputs": [
    {
     "data": {
      "text/plain": [
       "[[0, 0, 0, 0, 0],\n",
       " [0, 0, 1, 0, 0],\n",
       " [0, 3, 0, 5, 0],\n",
       " [0, 0, 7, 0, 0],\n",
       " [0, 0, 0, 0, 0]]"
      ]
     },
     "execution_count": 24,
     "metadata": {},
     "output_type": "execute_result"
    }
   ],
   "source": [
    "s.group_board"
   ]
  },
  {
   "cell_type": "code",
   "execution_count": 25,
   "metadata": {
    "hidden": true
   },
   "outputs": [
    {
     "data": {
      "text/plain": [
       "[[9, 0, 0, 0, 0],\n",
       " [0, 0, 1, 0, 0],\n",
       " [0, 3, 0, 5, 0],\n",
       " [0, 0, 7, 0, 0],\n",
       " [0, 0, 0, 0, 0]]"
      ]
     },
     "execution_count": 25,
     "metadata": {},
     "output_type": "execute_result"
    }
   ],
   "source": [
    "ns.group_board"
   ]
  },
  {
   "cell_type": "code",
   "execution_count": 30,
   "metadata": {
    "hidden": true
   },
   "outputs": [
    {
     "data": {
      "text/plain": [
       "{(0, 1), (1, 0)}"
      ]
     },
     "execution_count": 30,
     "metadata": {},
     "output_type": "execute_result"
    }
   ],
   "source": [
    "ns.groups[1][9].liberties"
   ]
  },
  {
   "cell_type": "code",
   "execution_count": 32,
   "metadata": {
    "hidden": true
   },
   "outputs": [
    {
     "data": {
      "text/plain": [
       "2"
      ]
     },
     "execution_count": 32,
     "metadata": {},
     "output_type": "execute_result"
    }
   ],
   "source": [
    "ns.groups[1][9].n_liberties"
   ]
  },
  {
   "cell_type": "code",
   "execution_count": null,
   "metadata": {
    "hidden": true
   },
   "outputs": [],
   "source": []
  }
 ],
 "metadata": {
  "kernelspec": {
   "display_name": "Python [default]",
   "language": "python",
   "name": "python3"
  },
  "language_info": {
   "codemirror_mode": {
    "name": "ipython",
    "version": 3
   },
   "file_extension": ".py",
   "mimetype": "text/x-python",
   "name": "python",
   "nbconvert_exporter": "python",
   "pygments_lexer": "ipython3",
   "version": "3.6.0"
  }
 },
 "nbformat": 4,
 "nbformat_minor": 2
}
